{
 "cells": [
  {
   "cell_type": "code",
   "execution_count": 1,
   "id": "b9dc80ae-fefb-4d19-8a6e-d0047e538ebd",
   "metadata": {},
   "outputs": [],
   "source": [
    "import pandas as pd\n",
    "import requests\n",
    "import numpy as np\n",
    "from pandas import json_normalize\n",
    "from pathlib import Path\n",
    "from api_key import api_key"
   ]
  },
  {
   "cell_type": "code",
   "execution_count": 2,
   "id": "c65302ba-dd21-42ff-9e27-6cf255066373",
   "metadata": {},
   "outputs": [],
   "source": [
    "# Station codes as strings\n",
    "station_code_list = [\"BG001\"]"
   ]
  },
  {
   "cell_type": "code",
   "execution_count": 3,
   "id": "315cb6a2-9d75-444a-b083-7fe502417bee",
   "metadata": {},
   "outputs": [],
   "source": [
    "# Headers with API key\n",
    "headers = {\n",
    "    \"api_key\": api_key\n",
    "}"
   ]
  },
  {
   "cell_type": "code",
   "execution_count": null,
   "id": "115d9b36-1dc2-42bc-927d-31c68ed9ec26",
   "metadata": {},
   "outputs": [],
   "source": [
    "# Initialize an empty list to store the data for all stations\n",
    "all_stations_data = []\n",
    "\n",
    "# Number of iterations\n",
    "num_iterations = 600\n",
    "\n",
    "# Iterate through each station\n",
    "for station in station_code_list:\n",
    "    # Iterate over the specified number of times\n",
    "    for i in range(num_iterations):\n",
    "        # Parameters for the specific station\n",
    "        url = f\"https://api.dpird.wa.gov.au/v2/weather/stations/{station}/data?\"\n",
    "        params = {\n",
    "            \"startDateTime\": \"2023-01-01T00:00:00Z\",\n",
    "            \"endDateTime\": \"2023-07-01T00:00:00Z\",\n",
    "            \"offset\": i * 1000,  # Use the current iteration index as the offset\n",
    "            \"limit\": 1000,\n",
    "        }\n",
    "\n",
    "        # Make the request for each station\n",
    "        response = requests.get(url, params=params, headers=headers)\n",
    "        data = response.json()\n",
    "\n",
    "        # Check if the 'collection' list is non-empty\n",
    "        if \"collection\" in data:\n",
    "            # Extract relevant information for each summary\n",
    "            for summary in data[\"collection\"]:\n",
    "                try:\n",
    "                    station_info = {\n",
    "                        \"dateTime\": summary[\"dateTime\"],\n",
    "                        \"airTemperature\": summary[\"airTemperature\"],\n",
    "                        \"relativeHumidity\": summary[\"relativeHumidity\"],\n",
    "                        \"soilTemperature\": summary[\"soilTemperature\"],\n",
    "                        \"solarIrradiance\": summary[\"solarIrradiance\"],\n",
    "                        \"rainfall\": summary[\"rainfall\"],\n",
    "                        \"dewPoint\": summary[\"dewPoint\"],\n",
    "                        \"deltaT\": summary[\"deltaT\"],\n",
    "                        \"wetBulb\": summary[\"wetBulb\"],\n",
    "                        \"wind_avg_speed\": summary[\"wind\"][0][\"avg\"][\"speed\"],\n",
    "                        \"wind_direction\": summary[\"wind\"][0][\"avg\"][\"direction\"][\"compassPoint\"],\n",
    "                        \"barometricPressure\": summary[\"barometricPressure\"],\n",
    "                        \"batteryVoltage\": summary[\"batteryVoltage\"],\n",
    "                    }\n",
    "                except KeyError as e:\n",
    "                    # Handle specific exception (e.g., key not found in the response)\n",
    "                    # Use a default station_info with all values as np.nan\n",
    "                    station_info = {\n",
    "                        \"dateTime\": np.nan,\n",
    "                        \"airTemperature\": np.nan,\n",
    "                        \"relativeHumidity\": np.nan,\n",
    "                        \"soilTemperature\": np.nan,\n",
    "                        \"solarIrradiance\": np.nan,\n",
    "                        \"rainfall\": np.nan,\n",
    "                        \"dewPoint\": np.nan,\n",
    "                        \"deltaT\": np.nan,\n",
    "                        \"wetBulb\": np.nan,\n",
    "                        \"wind_avg_speed\": np.nan,\n",
    "                        \"wind_direction\": np.nan,\n",
    "                        \"barometricPressure\": np.nan,\n",
    "                        \"batteryVoltage\": np.nan,\n",
    "                    }\n",
    "\n",
    "                # Append the information for the current station and summary to the list\n",
    "                all_stations_data.append(station_info)"
   ]
  },
  {
   "cell_type": "code",
   "execution_count": null,
   "id": "f5ee5061-86a9-422a-b226-2e515579324b",
   "metadata": {},
   "outputs": [],
   "source": [
    "# Assuming all_stations_data is a list of dictionaries\n",
    "all_stations = pd.DataFrame(all_stations_data)\n",
    "\n",
    "# Display dataframe\n",
    "all_stations"
   ]
  },
  {
   "cell_type": "code",
   "execution_count": null,
   "id": "8721df42-b231-4aed-8659-3dc96e0c8238",
   "metadata": {},
   "outputs": [],
   "source": [
    "all_stations.to_csv(\"../Resources/raindata.csv\", index=False)"
   ]
  },
  {
   "cell_type": "code",
   "execution_count": null,
   "id": "67b07c21-1f22-4416-93ff-9a975681b1bf",
   "metadata": {},
   "outputs": [],
   "source": []
  }
 ],
 "metadata": {
  "kernelspec": {
   "display_name": "Python 3 (ipykernel)",
   "language": "python",
   "name": "python3"
  },
  "language_info": {
   "codemirror_mode": {
    "name": "ipython",
    "version": 3
   },
   "file_extension": ".py",
   "mimetype": "text/x-python",
   "name": "python",
   "nbconvert_exporter": "python",
   "pygments_lexer": "ipython3",
   "version": "3.11.3"
  }
 },
 "nbformat": 4,
 "nbformat_minor": 5
}
